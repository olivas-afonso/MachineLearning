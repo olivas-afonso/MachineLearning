{
 "cells": [
  {
   "cell_type": "markdown",
   "metadata": {},
   "source": [
    "### 1 Carregar e Preprocessar os Dados "
   ]
  },
  {
   "cell_type": "code",
   "execution_count": 1,
   "metadata": {},
   "outputs": [
    {
     "name": "stdout",
     "output_type": "stream",
     "text": [
      "X_train shape: (17640, 49), Y_train shape: (17640,), X_test shape: (345744, 49)\n"
     ]
    }
   ],
   "source": [
    "import numpy as np\n",
    "from sklearn import svm\n",
    "from sklearn.metrics import balanced_accuracy_score, confusion_matrix\n",
    "import matplotlib.pyplot as plt\n",
    "import seaborn as sns\n",
    "from sklearn.model_selection import train_test_split\n",
    "\n",
    "# Load data\n",
    "X_train = np.load('Xtrain2_a.npy')  # Patches 7x7 achatados\n",
    "Y_train = np.load('Ytrain2_a.npy')  # Máscaras correspondentes (48x48)\n",
    "X_test = np.load('Xtest2_a.npy')    # Testes de patches\n",
    "\n",
    "# Reduzindo o tamanho do conjunto de treino para acelerar o processamento\n",
    "#X_train_small = X_train[:int(0.000001 * len(X_train))]  # 10% do conjunto original\n",
    "#Y_train_small = Y_train[:int(0.000001 * len(Y_train))]\n",
    "\n",
    "# Usar uma amostra menor para treino\n",
    "sample_size = 17640  # Define o tamanho da amostra para o treino rápido\n",
    "X_train = X_train[:sample_size]\n",
    "Y_train = Y_train[:sample_size]\n",
    "\n",
    "\n",
    "# Print shapes to confirm\n",
    "print(f\"X_train shape: {X_train.shape}, Y_train shape: {Y_train.shape}, X_test shape: {X_test.shape}\")\n"
   ]
  },
  {
   "cell_type": "markdown",
   "metadata": {},
   "source": [
    "### 2. Train-Test Split and SVM Model Training\n"
   ]
  },
  {
   "cell_type": "code",
   "execution_count": 10,
   "metadata": {},
   "outputs": [],
   "source": [
    "# Train-test split for validation\n",
    "X_train_split, X_val_split, Y_train_split, Y_val_split = train_test_split(X_train, Y_train, test_size=0.2, random_state=42)\n",
    "\n",
    "# Initialize SVM classifier\n",
    "svm_clf = svm.SVC(kernel='linear')  # You can try other kernels like 'rbf'\n",
    "\n",
    "# Train SVM model\n",
    "svm_clf.fit(X_train_split, Y_train_split)\n",
    "\n",
    "# Predictions on validation set\n",
    "Y_val_pred = svm_clf.predict(X_val_split)\n",
    "\n",
    "# Compute balanced accuracy on validation set\n",
    "balanced_acc_val = balanced_accuracy_score(Y_val_split, Y_val_pred)\n",
    "print(f\"Balanced Accuracy on Validation Set: {balanced_acc_val:.4f}\")\n"
   ]
  },
  {
   "cell_type": "markdown",
   "metadata": {},
   "source": [
    "### 3. Preparar os Dados para o Treinamento"
   ]
  },
  {
   "cell_type": "code",
   "execution_count": null,
   "metadata": {},
   "outputs": [],
   "source": [
    "# Predictions on test set\n",
    "Y_test_pred = svm_clf.predict(X_test)\n",
    "\n",
    "# Compute balanced accuracy on test set (since ground truth Y_test is not provided, assume it's part of X_train here)\n",
    "balanced_acc_test = balanced_accuracy_score(Y_train_split, svm_clf.predict(X_train_split))\n",
    "print(f\"Balanced Accuracy on Test Set: {balanced_acc_test:.4f}\")\n",
    "\n",
    "# Confusion matrix\n",
    "conf_matrix = confusion_matrix(Y_val_split, Y_val_pred)\n",
    "\n",
    "# Plot confusion matrix\n",
    "plt.figure(figsize=(8, 6))\n",
    "sns.heatmap(conf_matrix, annot=True, fmt='d', cmap='Blues')\n",
    "plt.title('Confusion Matrix')\n",
    "plt.ylabel('True Label')\n",
    "plt.xlabel('Predicted Label')\n",
    "plt.show()\n"
   ]
  },
  {
   "cell_type": "markdown",
   "metadata": {},
   "source": [
    "### 4. Visualizar Previsões e Mostrar Matriz de Confusão"
   ]
  },
  {
   "cell_type": "code",
   "execution_count": null,
   "metadata": {},
   "outputs": [],
   "source": [
    "# Configurar valores de precisao para exibição\n",
    "val_acc_values = [balanced_acc_val]\n",
    "train_acc_values = [balanced_acc_test]\n",
    "\n",
    "# Plotar o gráfico de precisão\n",
    "plt.figure(figsize=(8, 5))\n",
    "plt.plot(train_acc_values, label='Train Accuracy')\n",
    "plt.plot(val_acc_values, label='Validation Accuracy')\n",
    "plt.title('Accuracy over Training')\n",
    "plt.xlabel('Epoch')\n",
    "plt.ylabel('Accuracy')\n",
    "plt.legend()\n",
    "plt.show()\n"
   ]
  },
  {
   "cell_type": "markdown",
   "metadata": {},
   "source": [
    "### 5. Image Reconstruction (42x42)"
   ]
  },
  {
   "cell_type": "code",
   "execution_count": null,
   "metadata": {},
   "outputs": [],
   "source": [
    "from sklearn.feature_extraction import image\n",
    "import matplotlib.pyplot as plt\n",
    "\n",
    "# Configurações de reconstrução\n",
    "image_size_with_crust = (48, 48)\n",
    "patch_size = (7, 7)\n",
    "num_patches_per_image = 42 * 42  # Quantidade de patches por imagem\n",
    "num_images = 10  # Número de imagens para visualizar\n",
    "\n",
    "# Função para reconstruir e exibir imagens\n",
    "def plot_reconstructed_images(data, title, num_images=10):\n",
    "    fig, axes = plt.subplots(2, 5, figsize=(15, 6))\n",
    "    \n",
    "    for idx in range(num_images):\n",
    "        start = idx * num_patches_per_image\n",
    "        end = start + num_patches_per_image\n",
    "        patches = data[start:end].reshape(-1, *patch_size)\n",
    "        \n",
    "        # Reconstrução da imagem a partir dos patches\n",
    "        reconstructed_image = image.reconstruct_from_patches_2d(patches, image_size_with_crust)\n",
    "        \n",
    "        # Mostrar a imagem reconstruída\n",
    "        ax = axes[idx // 5, idx % 5]\n",
    "        ax.imshow(reconstructed_image, cmap='gray')\n",
    "        ax.set_title(f\"Imagem {idx+1}\")\n",
    "        ax.axis('off')\n",
    "\n",
    "    plt.suptitle(title)\n",
    "    plt.tight_layout()\n",
    "    plt.show()\n",
    "\n",
    "# Exibir imagens reconstruídas do conjunto de treino\n",
    "plot_reconstructed_images(X_train, title=\"Imagens Reconstruídas - X_train\", num_images=num_images)\n",
    "\n",
    "# Exibir imagens reconstruídas do conjunto de teste com previsões\n",
    "plot_reconstructed_images(Y_test_pred, title=\"Imagens Reconstruídas - Y_test_pred\", num_images=num_images)\n"
   ]
  },
  {
   "cell_type": "markdown",
   "metadata": {},
   "source": [
    "### 6. Reconstruir a Imagem a partir das Previsões\n"
   ]
  }
 ],
 "metadata": {
  "kernelspec": {
   "display_name": "Python 3",
   "language": "python",
   "name": "python3"
  },
  "language_info": {
   "codemirror_mode": {
    "name": "ipython",
    "version": 3
   },
   "file_extension": ".py",
   "mimetype": "text/x-python",
   "name": "python",
   "nbconvert_exporter": "python",
   "pygments_lexer": "ipython3",
   "version": "3.12.6"
  }
 },
 "nbformat": 4,
 "nbformat_minor": 2
}
